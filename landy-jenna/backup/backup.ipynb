{
 "cells": [
  {
   "cell_type": "markdown",
   "metadata": {},
   "source": [
    "Note: the lesson for this week covered both the backup tool and how to use mock objects\n",
    "like pyfakefs in testing. It was clearly too much material—my apologies for trying to\n",
    "cram it all in—so the exercises below do _not_ require you to use pyfakefs. I will put\n",
    "together an entire lesson on mock objects to run later in the course.\n",
    "\n",
    "## Comparing manifests\n",
    "\n",
    "Write a program `compare-manifests.py` that reads two manifest files and reports:\n",
    "\n",
    "-   Which files have the same names but different hashes\n",
    "    (i.e., their contents have changed).\n",
    "-   Which files have the same hashes but different names\n",
    "    (i.e., they have been renamed).\n",
    "-   Which files are in the first hash but neither their names nor their hashes are in the second\n",
    "    (i.e., they have been deleted).\n",
    "-   Which files are in the second hash but neither their names nor their hashes are in the first\n",
    "    (i.e., they have been added).\n",
    "\n",
    "You can test your program by hand-writing a few manifest CSV files with made-up hashes."
   ]
  },
  {
   "cell_type": "markdown",
   "metadata": {},
   "source": [
    "## File history\n",
    "\n",
    "Write a program called `file_history.py`\n",
    "that takes the name of a file as a command-line argument\n",
    "and displays the history of that file\n",
    "by tracing it back in time through the available manifests.\n",
    "Again, you can test your program using made-up manifest files.\n"
   ]
  },
  {
   "cell_type": "markdown",
   "metadata": {},
   "source": [
    "## Finding duplicate files\n",
    "\n",
    "Write a program called `finddup.py` that takes a list of filenames as command-line\n",
    "arguments, and reports which of those files are duplicates of each other.  The\n",
    "fastest way to do this is to calculate the hash for each file, and then group files\n",
    "with the same hashes together. Note that there may be several duplicates of a file,\n",
    "not just two.\n",
    "\n",
    "You can test your program by creating a few directories with test files in them\n",
    "rather than using pyfakefs.\n"
   ]
  }
 ],
 "metadata": {
  "kernelspec": {
   "display_name": "Python 3",
   "language": "python",
   "name": "python3"
  },
  "language_info": {
   "codemirror_mode": {
    "name": "ipython",
    "version": 3
   },
   "file_extension": ".py",
   "mimetype": "text/x-python",
   "name": "python",
   "nbconvert_exporter": "python",
   "pygments_lexer": "ipython3",
   "version": "3.8.5"
  }
 },
 "nbformat": 4,
 "nbformat_minor": 4
}
